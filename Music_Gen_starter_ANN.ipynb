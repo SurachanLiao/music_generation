{
 "cells": [
  {
   "cell_type": "code",
   "execution_count": 2,
   "id": "759181fd",
   "metadata": {
    "colab": {
     "base_uri": "https://localhost:8080/"
    },
    "id": "759181fd",
    "outputId": "6cd5dd74-23b7-4b22-c69b-08ff569e7bcb"
   },
   "outputs": [
    {
     "name": "stdout",
     "output_type": "stream",
     "text": [
      "Requirement already satisfied: librosa in /Users/surachanliao/anaconda3/lib/python3.8/site-packages (0.9.1)\n",
      "Requirement already satisfied: resampy>=0.2.2 in /Users/surachanliao/anaconda3/lib/python3.8/site-packages (from librosa) (0.2.2)\n",
      "Requirement already satisfied: packaging>=20.0 in /Users/surachanliao/anaconda3/lib/python3.8/site-packages (from librosa) (21.0)\n",
      "Requirement already satisfied: numpy>=1.17.0 in /Users/surachanliao/anaconda3/lib/python3.8/site-packages (from librosa) (1.20.3)\n",
      "Requirement already satisfied: numba>=0.45.1 in /Users/surachanliao/anaconda3/lib/python3.8/site-packages (from librosa) (0.53.1)\n",
      "Requirement already satisfied: scikit-learn>=0.19.1 in /Users/surachanliao/anaconda3/lib/python3.8/site-packages (from librosa) (0.24.2)\n",
      "Requirement already satisfied: scipy>=1.2.0 in /Users/surachanliao/anaconda3/lib/python3.8/site-packages (from librosa) (1.7.1)\n",
      "Requirement already satisfied: audioread>=2.1.5 in /Users/surachanliao/anaconda3/lib/python3.8/site-packages (from librosa) (2.1.9)\n",
      "Requirement already satisfied: joblib>=0.14 in /Users/surachanliao/anaconda3/lib/python3.8/site-packages (from librosa) (1.0.1)\n",
      "Requirement already satisfied: pooch>=1.0 in /Users/surachanliao/anaconda3/lib/python3.8/site-packages (from librosa) (1.6.0)\n",
      "Requirement already satisfied: decorator>=4.0.10 in /Users/surachanliao/anaconda3/lib/python3.8/site-packages (from librosa) (5.0.9)\n",
      "Requirement already satisfied: soundfile>=0.10.2 in /Users/surachanliao/anaconda3/lib/python3.8/site-packages (from librosa) (0.10.3.post1)\n",
      "Requirement already satisfied: llvmlite<0.37,>=0.36.0rc1 in /Users/surachanliao/anaconda3/lib/python3.8/site-packages (from numba>=0.45.1->librosa) (0.36.0)\n",
      "Requirement already satisfied: setuptools in /Users/surachanliao/anaconda3/lib/python3.8/site-packages (from numba>=0.45.1->librosa) (52.0.0.post20210125)\n",
      "Requirement already satisfied: pyparsing>=2.0.2 in /Users/surachanliao/anaconda3/lib/python3.8/site-packages (from packaging>=20.0->librosa) (2.4.7)\n",
      "Requirement already satisfied: appdirs>=1.3.0 in /Users/surachanliao/anaconda3/lib/python3.8/site-packages (from pooch>=1.0->librosa) (1.4.4)\n",
      "Requirement already satisfied: requests>=2.19.0 in /Users/surachanliao/anaconda3/lib/python3.8/site-packages (from pooch>=1.0->librosa) (2.26.0)\n",
      "Requirement already satisfied: urllib3<1.27,>=1.21.1 in /Users/surachanliao/anaconda3/lib/python3.8/site-packages (from requests>=2.19.0->pooch>=1.0->librosa) (1.26.6)\n",
      "Requirement already satisfied: idna<4,>=2.5 in /Users/surachanliao/anaconda3/lib/python3.8/site-packages (from requests>=2.19.0->pooch>=1.0->librosa) (3.2)\n",
      "Requirement already satisfied: certifi>=2017.4.17 in /Users/surachanliao/anaconda3/lib/python3.8/site-packages (from requests>=2.19.0->pooch>=1.0->librosa) (2021.10.8)\n",
      "Requirement already satisfied: charset-normalizer~=2.0.0 in /Users/surachanliao/anaconda3/lib/python3.8/site-packages (from requests>=2.19.0->pooch>=1.0->librosa) (2.0.4)\n",
      "Requirement already satisfied: six>=1.3 in /Users/surachanliao/anaconda3/lib/python3.8/site-packages (from resampy>=0.2.2->librosa) (1.16.0)\n",
      "Requirement already satisfied: threadpoolctl>=2.0.0 in /Users/surachanliao/anaconda3/lib/python3.8/site-packages (from scikit-learn>=0.19.1->librosa) (2.2.0)\n",
      "Requirement already satisfied: cffi>=1.0 in /Users/surachanliao/anaconda3/lib/python3.8/site-packages (from soundfile>=0.10.2->librosa) (1.14.6)\n",
      "Requirement already satisfied: pycparser in /Users/surachanliao/anaconda3/lib/python3.8/site-packages (from cffi>=1.0->soundfile>=0.10.2->librosa) (2.20)\n",
      "Requirement already satisfied: tensorflow in /Users/surachanliao/anaconda3/lib/python3.8/site-packages (2.8.0)\n",
      "Requirement already satisfied: flatbuffers>=1.12 in /Users/surachanliao/anaconda3/lib/python3.8/site-packages (from tensorflow) (2.0)\n",
      "Requirement already satisfied: grpcio<2.0,>=1.24.3 in /Users/surachanliao/anaconda3/lib/python3.8/site-packages (from tensorflow) (1.44.0)\n",
      "Requirement already satisfied: tensorflow-io-gcs-filesystem>=0.23.1 in /Users/surachanliao/anaconda3/lib/python3.8/site-packages (from tensorflow) (0.24.0)\n",
      "Requirement already satisfied: setuptools in /Users/surachanliao/anaconda3/lib/python3.8/site-packages (from tensorflow) (52.0.0.post20210125)\n",
      "Requirement already satisfied: keras-preprocessing>=1.1.1 in /Users/surachanliao/anaconda3/lib/python3.8/site-packages (from tensorflow) (1.1.2)\n",
      "Requirement already satisfied: numpy>=1.20 in /Users/surachanliao/anaconda3/lib/python3.8/site-packages (from tensorflow) (1.20.3)\n",
      "Requirement already satisfied: typing-extensions>=3.6.6 in /Users/surachanliao/anaconda3/lib/python3.8/site-packages (from tensorflow) (3.10.0.0)\n",
      "Requirement already satisfied: wrapt>=1.11.0 in /Users/surachanliao/anaconda3/lib/python3.8/site-packages (from tensorflow) (1.12.1)\n",
      "Requirement already satisfied: libclang>=9.0.1 in /Users/surachanliao/anaconda3/lib/python3.8/site-packages (from tensorflow) (13.0.0)\n",
      "Requirement already satisfied: tensorboard<2.9,>=2.8 in /Users/surachanliao/anaconda3/lib/python3.8/site-packages (from tensorflow) (2.8.0)\n",
      "Requirement already satisfied: h5py>=2.9.0 in /Users/surachanliao/anaconda3/lib/python3.8/site-packages (from tensorflow) (2.10.0)\n",
      "Requirement already satisfied: google-pasta>=0.1.1 in /Users/surachanliao/anaconda3/lib/python3.8/site-packages (from tensorflow) (0.2.0)\n",
      "Requirement already satisfied: astunparse>=1.6.0 in /Users/surachanliao/anaconda3/lib/python3.8/site-packages (from tensorflow) (1.6.3)\n",
      "Requirement already satisfied: six>=1.12.0 in /Users/surachanliao/anaconda3/lib/python3.8/site-packages (from tensorflow) (1.16.0)\n",
      "Requirement already satisfied: absl-py>=0.4.0 in /Users/surachanliao/anaconda3/lib/python3.8/site-packages (from tensorflow) (1.0.0)\n",
      "Requirement already satisfied: keras<2.9,>=2.8.0rc0 in /Users/surachanliao/anaconda3/lib/python3.8/site-packages (from tensorflow) (2.8.0)\n",
      "Requirement already satisfied: opt-einsum>=2.3.2 in /Users/surachanliao/anaconda3/lib/python3.8/site-packages (from tensorflow) (3.3.0)\n",
      "Requirement already satisfied: termcolor>=1.1.0 in /Users/surachanliao/anaconda3/lib/python3.8/site-packages (from tensorflow) (1.1.0)\n",
      "Requirement already satisfied: protobuf>=3.9.2 in /Users/surachanliao/anaconda3/lib/python3.8/site-packages (from tensorflow) (3.20.0)\n",
      "Requirement already satisfied: tf-estimator-nightly==2.8.0.dev2021122109 in /Users/surachanliao/anaconda3/lib/python3.8/site-packages (from tensorflow) (2.8.0.dev2021122109)\n",
      "Requirement already satisfied: gast>=0.2.1 in /Users/surachanliao/anaconda3/lib/python3.8/site-packages (from tensorflow) (0.5.3)\n",
      "Requirement already satisfied: wheel<1.0,>=0.23.0 in /Users/surachanliao/anaconda3/lib/python3.8/site-packages (from astunparse>=1.6.0->tensorflow) (0.37.0)\n",
      "Requirement already satisfied: google-auth-oauthlib<0.5,>=0.4.1 in /Users/surachanliao/anaconda3/lib/python3.8/site-packages (from tensorboard<2.9,>=2.8->tensorflow) (0.4.6)\n",
      "Requirement already satisfied: requests<3,>=2.21.0 in /Users/surachanliao/anaconda3/lib/python3.8/site-packages (from tensorboard<2.9,>=2.8->tensorflow) (2.26.0)\n",
      "Requirement already satisfied: markdown>=2.6.8 in /Users/surachanliao/anaconda3/lib/python3.8/site-packages (from tensorboard<2.9,>=2.8->tensorflow) (3.3.6)\n",
      "Requirement already satisfied: google-auth<3,>=1.6.3 in /Users/surachanliao/anaconda3/lib/python3.8/site-packages (from tensorboard<2.9,>=2.8->tensorflow) (2.6.2)\n",
      "Requirement already satisfied: tensorboard-data-server<0.7.0,>=0.6.0 in /Users/surachanliao/anaconda3/lib/python3.8/site-packages (from tensorboard<2.9,>=2.8->tensorflow) (0.6.1)\n",
      "Requirement already satisfied: tensorboard-plugin-wit>=1.6.0 in /Users/surachanliao/anaconda3/lib/python3.8/site-packages (from tensorboard<2.9,>=2.8->tensorflow) (1.8.1)\n",
      "Requirement already satisfied: werkzeug>=0.11.15 in /Users/surachanliao/anaconda3/lib/python3.8/site-packages (from tensorboard<2.9,>=2.8->tensorflow) (1.0.1)\n",
      "Requirement already satisfied: cachetools<6.0,>=2.0.0 in /Users/surachanliao/anaconda3/lib/python3.8/site-packages (from google-auth<3,>=1.6.3->tensorboard<2.9,>=2.8->tensorflow) (5.0.0)\n",
      "Requirement already satisfied: rsa<5,>=3.1.4 in /Users/surachanliao/anaconda3/lib/python3.8/site-packages (from google-auth<3,>=1.6.3->tensorboard<2.9,>=2.8->tensorflow) (4.8)\n",
      "Requirement already satisfied: pyasn1-modules>=0.2.1 in /Users/surachanliao/anaconda3/lib/python3.8/site-packages (from google-auth<3,>=1.6.3->tensorboard<2.9,>=2.8->tensorflow) (0.2.8)\n",
      "Requirement already satisfied: requests-oauthlib>=0.7.0 in /Users/surachanliao/anaconda3/lib/python3.8/site-packages (from google-auth-oauthlib<0.5,>=0.4.1->tensorboard<2.9,>=2.8->tensorflow) (1.3.1)\n",
      "Requirement already satisfied: importlib-metadata>=4.4 in /Users/surachanliao/anaconda3/lib/python3.8/site-packages (from markdown>=2.6.8->tensorboard<2.9,>=2.8->tensorflow) (4.11.3)\n"
     ]
    },
    {
     "name": "stdout",
     "output_type": "stream",
     "text": [
      "Requirement already satisfied: zipp>=0.5 in /Users/surachanliao/anaconda3/lib/python3.8/site-packages (from importlib-metadata>=4.4->markdown>=2.6.8->tensorboard<2.9,>=2.8->tensorflow) (3.5.0)\n",
      "Requirement already satisfied: pyasn1<0.5.0,>=0.4.6 in /Users/surachanliao/anaconda3/lib/python3.8/site-packages (from pyasn1-modules>=0.2.1->google-auth<3,>=1.6.3->tensorboard<2.9,>=2.8->tensorflow) (0.4.8)\n",
      "Requirement already satisfied: charset-normalizer~=2.0.0 in /Users/surachanliao/anaconda3/lib/python3.8/site-packages (from requests<3,>=2.21.0->tensorboard<2.9,>=2.8->tensorflow) (2.0.4)\n",
      "Requirement already satisfied: urllib3<1.27,>=1.21.1 in /Users/surachanliao/anaconda3/lib/python3.8/site-packages (from requests<3,>=2.21.0->tensorboard<2.9,>=2.8->tensorflow) (1.26.6)\n",
      "Requirement already satisfied: idna<4,>=2.5 in /Users/surachanliao/anaconda3/lib/python3.8/site-packages (from requests<3,>=2.21.0->tensorboard<2.9,>=2.8->tensorflow) (3.2)\n",
      "Requirement already satisfied: certifi>=2017.4.17 in /Users/surachanliao/anaconda3/lib/python3.8/site-packages (from requests<3,>=2.21.0->tensorboard<2.9,>=2.8->tensorflow) (2021.10.8)\n",
      "Requirement already satisfied: oauthlib>=3.0.0 in /Users/surachanliao/anaconda3/lib/python3.8/site-packages (from requests-oauthlib>=0.7.0->google-auth-oauthlib<0.5,>=0.4.1->tensorboard<2.9,>=2.8->tensorflow) (3.2.0)\n",
      "Collecting pydub\n",
      "  Downloading pydub-0.25.1-py2.py3-none-any.whl (32 kB)\n",
      "Installing collected packages: pydub\n",
      "Successfully installed pydub-0.25.1\n"
     ]
    }
   ],
   "source": [
    "import sys\n",
    "!{sys.executable} -m pip install librosa\n",
    "!{sys.executable} -m pip install --upgrade tensorflow\n",
    "!{sys.executable} -m pip install pydub"
   ]
  },
  {
   "cell_type": "code",
   "execution_count": 3,
   "id": "HgAAdoppqxm1",
   "metadata": {
    "colab": {
     "base_uri": "https://localhost:8080/"
    },
    "id": "HgAAdoppqxm1",
    "outputId": "32ad0e1a-6f12-46a8-bd22-af8924ed20b7"
   },
   "outputs": [],
   "source": [
    "#!git clone https://github.com/SurachanLiao/music_generative.git"
   ]
  },
  {
   "cell_type": "code",
   "execution_count": 4,
   "id": "b0ce580e",
   "metadata": {
    "id": "b0ce580e"
   },
   "outputs": [],
   "source": [
    "import argparse, os\n",
    "import librosa\n",
    "import numpy as np\n",
    "from sklearn.decomposition import NMF\n",
    "import tensorflow as tf\n",
    "from keras.models import Sequential\n",
    "from keras.layers import Embedding, Dense, GlobalAveragePooling1D\n",
    "from keras.initializers import HeNormal\n",
    "import os\n",
    "os.environ['TF_CPP_MIN_LOG_LEVEL'] = '2'\n",
    "\n",
    "def get_files(directory):\n",
    "    # Stores list of file names\n",
    "    file_names = []\n",
    "    # traverse whole directory\n",
    "    for root, dirs, files in os.walk(directory):\n",
    "        # select file name\n",
    "        for file in files:\n",
    "            # check if file is wav file\n",
    "            if file.endswith('.wav'):\n",
    "                file_names.append(file)\n",
    "\n",
    "    return file_names\n",
    "\n",
    "def get_data(directory):\n",
    "    file_names = get_files(directory)\n",
    "\n",
    "    W_flat_list = []\n",
    "    H_flat_list = []\n",
    "    X_phase_list = []\n",
    "    # Decompose music pieces\n",
    "    for file in file_names:\n",
    "        file_path = f\"{directory}/{file}\"\n",
    "        # Get data from file\n",
    "        x, sr = librosa.load(file_path, duration=5)\n",
    "        S = librosa.stft(x)\n",
    "        # Get magnitude and phase components of data\n",
    "        X, X_phase = librosa.magphase(S)\n",
    "        X_phase_list.append(X_phase)\n",
    "        # Decompose X into W and H matrices using NMF\n",
    "        num_comp = 20\n",
    "        model = NMF(n_components = num_comp, init='random', random_state=0, max_iter=2000)\n",
    "        W = model.fit_transform(X)\n",
    "        H = model.components_\n",
    "        # Flattens the matrices into vectors\n",
    "        W_flat_list.append(W.flatten())\n",
    "        H_flat_list.append(H.flatten())\n",
    "\n",
    "    X_train = np.stack(W_flat_list)\n",
    "    y_train = np.stack(H_flat_list)\n",
    "\n",
    "    return X_train, y_train, X_phase_list\n",
    "\n",
    "def save_NMF_data(X_train, y_train, X_phase_list, fp):\n",
    "    np.savez(fp, X_train = X_train, y_train = y_train, \n",
    "            X_phase_list = X_phase_list)\n",
    "\n",
    "\n",
    "# model = Sequential()\n",
    "# model.add(Dense(units=128, input_dim=training_set.shape[1], activation=\"relu\", kernel_initializer=HeNormal())) # 1st Hidden layer\n",
    "# model.add(Dense(units=128, activation=\"relu\", kernel_initializer=HeNormal())) # 2nd Hidden layer\n",
    "# model.add(Dense(units=128, activation=\"relu\", kernel_initializer=HeNormal())) # 3nd Hidden layer\n",
    "# model.add(Dense(units=labels.shape[1], activation=\"relu\")) # Output layer\n",
    "\n",
    "# def train_model(X_train, y_train):\n",
    "#   model = None  # TODO figure out model initialization code for ANN\n",
    "#   model.fit(X_train, y_train)\n",
    "#   return model"
   ]
  },
  {
   "cell_type": "code",
   "execution_count": 5,
   "id": "3865f1d8",
   "metadata": {
    "id": "3865f1d8"
   },
   "outputs": [],
   "source": [
    "X_train, y_train, X_phase_list = get_data(\"music_generative\")\n",
    "#print(X_train.shape) #save_NMF_data(X_train, y_train, args.npyFILE)"
   ]
  },
  {
   "cell_type": "code",
   "execution_count": 6,
   "id": "d94fb34b",
   "metadata": {
    "colab": {
     "base_uri": "https://localhost:8080/"
    },
    "id": "d94fb34b",
    "outputId": "4b4e88cc-b32a-4a9e-b206-60918268132f"
   },
   "outputs": [
    {
     "data": {
      "text/plain": [
       "(91, 4320)"
      ]
     },
     "execution_count": 6,
     "metadata": {},
     "output_type": "execute_result"
    }
   ],
   "source": [
    "y_train.shape"
   ]
  },
  {
   "cell_type": "code",
   "execution_count": 7,
   "id": "ZeJiG4lDs4Yz",
   "metadata": {
    "id": "ZeJiG4lDs4Yz"
   },
   "outputs": [],
   "source": [
    "save_NMF_data(X_train, y_train, X_phase_list, \"data\")"
   ]
  },
  {
   "cell_type": "code",
   "execution_count": 8,
   "id": "4c3c784e",
   "metadata": {
    "id": "4c3c784e"
   },
   "outputs": [],
   "source": [
    "data = np.load(\"data.npz\")\n",
    "X_train = data['X_train']\n",
    "y_train = data['y_train']\n",
    "X_phase_list = data['X_phase_list']"
   ]
  },
  {
   "cell_type": "code",
   "execution_count": 9,
   "id": "d3499d75",
   "metadata": {
    "id": "d3499d75"
   },
   "outputs": [],
   "source": [
    "training_set = X_train\n",
    "labels = y_train"
   ]
  },
  {
   "cell_type": "code",
   "execution_count": 10,
   "id": "c361f470",
   "metadata": {
    "colab": {
     "base_uri": "https://localhost:8080/"
    },
    "id": "c361f470",
    "outputId": "cf64611b-464a-4f24-805b-3b3d2b09e8c7"
   },
   "outputs": [
    {
     "data": {
      "text/plain": [
       "(91, 4320)"
      ]
     },
     "execution_count": 10,
     "metadata": {},
     "output_type": "execute_result"
    }
   ],
   "source": [
    "labels.shape"
   ]
  },
  {
   "cell_type": "code",
   "execution_count": 11,
   "id": "6c9352c1",
   "metadata": {
    "id": "6c9352c1"
   },
   "outputs": [],
   "source": [
    "# Create Model\n",
    "import tensorflow as tf\n",
    "from keras.models import Sequential\n",
    "from keras.layers import Embedding, Dense, GlobalAveragePooling1D\n",
    "from keras.initializers import HeNormal\n",
    "model = Sequential()\n",
    "model.add(Dense(units=512, input_dim=training_set.shape[1], activation=\"relu\", kernel_initializer=HeNormal())) # 1st Hidden layer\n",
    "model.add(Dense(units=512, activation=\"relu\", kernel_initializer=HeNormal())) # 2nd Hidden layer\n",
    "model.add(Dense(units=512, activation=\"relu\", kernel_initializer=HeNormal())) # 3nd Hidden layer\n",
    "model.add(Dense(units=labels.shape[1], activation=\"relu\")) # Output layer"
   ]
  },
  {
   "cell_type": "code",
   "execution_count": 12,
   "id": "76b1934a",
   "metadata": {
    "id": "76b1934a"
   },
   "outputs": [],
   "source": [
    "# Compile Model\n",
    "model.compile(optimizer='adam', loss=\"mean_squared_error\", metrics=[\"accuracy\"])"
   ]
  },
  {
   "cell_type": "code",
   "execution_count": 13,
   "id": "bedf03fd",
   "metadata": {
    "colab": {
     "base_uri": "https://localhost:8080/"
    },
    "id": "bedf03fd",
    "outputId": "1b43ab55-53d0-48f7-d371-0a2de015da07"
   },
   "outputs": [
    {
     "name": "stdout",
     "output_type": "stream",
     "text": [
      "Epoch 1/100\n",
      "91/91 [==============================] - 5s 53ms/step - loss: 3.0351 - accuracy: 0.0000e+00\n",
      "Epoch 2/100\n",
      "91/91 [==============================] - 5s 55ms/step - loss: 3.0242 - accuracy: 0.0000e+00\n",
      "Epoch 3/100\n",
      "91/91 [==============================] - 6s 65ms/step - loss: 2.9970 - accuracy: 0.0220\n",
      "Epoch 4/100\n",
      "91/91 [==============================] - 5s 54ms/step - loss: 2.9449 - accuracy: 0.0220\n",
      "Epoch 5/100\n",
      "91/91 [==============================] - 4s 49ms/step - loss: 2.8885 - accuracy: 0.0440\n",
      "Epoch 6/100\n",
      "91/91 [==============================] - 5s 58ms/step - loss: 2.8836 - accuracy: 0.0440\n",
      "Epoch 7/100\n",
      "91/91 [==============================] - 5s 52ms/step - loss: 2.9728 - accuracy: 0.0879\n",
      "Epoch 8/100\n",
      "91/91 [==============================] - 5s 55ms/step - loss: 3.0118 - accuracy: 0.0769\n",
      "Epoch 9/100\n",
      "91/91 [==============================] - 6s 63ms/step - loss: 2.9937 - accuracy: 0.0659\n",
      "Epoch 10/100\n",
      "91/91 [==============================] - 5s 55ms/step - loss: 2.9073 - accuracy: 0.0989\n",
      "Epoch 11/100\n",
      "91/91 [==============================] - 5s 57ms/step - loss: 2.8655 - accuracy: 0.0659\n",
      "Epoch 12/100\n",
      "91/91 [==============================] - 5s 54ms/step - loss: 2.8059 - accuracy: 0.1429\n",
      "Epoch 13/100\n",
      "91/91 [==============================] - 5s 52ms/step - loss: 2.7612 - accuracy: 0.1648\n",
      "Epoch 14/100\n",
      "91/91 [==============================] - 5s 54ms/step - loss: 2.7547 - accuracy: 0.1538\n",
      "Epoch 15/100\n",
      "91/91 [==============================] - 5s 54ms/step - loss: 2.7674 - accuracy: 0.1538\n",
      "Epoch 16/100\n",
      "91/91 [==============================] - 5s 51ms/step - loss: 2.7041 - accuracy: 0.2198\n",
      "Epoch 17/100\n",
      "91/91 [==============================] - 5s 50ms/step - loss: 2.6324 - accuracy: 0.2527\n",
      "Epoch 18/100\n",
      "91/91 [==============================] - 4s 48ms/step - loss: 2.6370 - accuracy: 0.2088\n",
      "Epoch 19/100\n",
      "91/91 [==============================] - 5s 51ms/step - loss: 2.5969 - accuracy: 0.2198\n",
      "Epoch 20/100\n",
      "91/91 [==============================] - 4s 48ms/step - loss: 2.5976 - accuracy: 0.2637\n",
      "Epoch 21/100\n",
      "91/91 [==============================] - 5s 58ms/step - loss: 2.5496 - accuracy: 0.2637\n",
      "Epoch 22/100\n",
      "91/91 [==============================] - 5s 53ms/step - loss: 2.5019 - accuracy: 0.2527\n",
      "Epoch 23/100\n",
      "91/91 [==============================] - 5s 51ms/step - loss: 2.5116 - accuracy: 0.2967\n",
      "Epoch 24/100\n",
      "91/91 [==============================] - 7s 74ms/step - loss: 2.4681 - accuracy: 0.2857\n",
      "Epoch 25/100\n",
      "91/91 [==============================] - 6s 61ms/step - loss: 2.4989 - accuracy: 0.2967\n",
      "Epoch 26/100\n",
      "91/91 [==============================] - 6s 62ms/step - loss: 2.4668 - accuracy: 0.3297\n",
      "Epoch 27/100\n",
      "91/91 [==============================] - 5s 59ms/step - loss: 2.4107 - accuracy: 0.3187\n",
      "Epoch 28/100\n",
      "91/91 [==============================] - 6s 61ms/step - loss: 2.4196 - accuracy: 0.3516\n",
      "Epoch 29/100\n",
      "91/91 [==============================] - 5s 59ms/step - loss: 2.3790 - accuracy: 0.3626\n",
      "Epoch 30/100\n",
      "91/91 [==============================] - 7s 74ms/step - loss: 2.3723 - accuracy: 0.3407\n",
      "Epoch 31/100\n",
      "91/91 [==============================] - 6s 63ms/step - loss: 2.3661 - accuracy: 0.3516\n",
      "Epoch 32/100\n",
      "91/91 [==============================] - 6s 70ms/step - loss: 2.3825 - accuracy: 0.3407\n",
      "Epoch 33/100\n",
      "91/91 [==============================] - 6s 66ms/step - loss: 2.3935 - accuracy: 0.3736\n",
      "Epoch 34/100\n",
      "91/91 [==============================] - 5s 49ms/step - loss: 2.3884 - accuracy: 0.3736\n",
      "Epoch 35/100\n",
      "91/91 [==============================] - 5s 54ms/step - loss: 2.3915 - accuracy: 0.3297\n",
      "Epoch 36/100\n",
      "91/91 [==============================] - 5s 52ms/step - loss: 2.3655 - accuracy: 0.3846\n",
      "Epoch 37/100\n",
      "91/91 [==============================] - 4s 49ms/step - loss: 2.3375 - accuracy: 0.3846\n",
      "Epoch 38/100\n",
      "91/91 [==============================] - 6s 64ms/step - loss: 2.3738 - accuracy: 0.3956\n",
      "Epoch 39/100\n",
      "91/91 [==============================] - 5s 53ms/step - loss: 2.3506 - accuracy: 0.3626\n",
      "Epoch 40/100\n",
      "91/91 [==============================] - 5s 59ms/step - loss: 2.3698 - accuracy: 0.3846\n",
      "Epoch 41/100\n",
      "91/91 [==============================] - 6s 61ms/step - loss: 2.3760 - accuracy: 0.3516\n",
      "Epoch 42/100\n",
      "91/91 [==============================] - 7s 78ms/step - loss: 2.3678 - accuracy: 0.3516\n",
      "Epoch 43/100\n",
      "91/91 [==============================] - 6s 64ms/step - loss: 2.3623 - accuracy: 0.3516\n",
      "Epoch 44/100\n",
      "91/91 [==============================] - 6s 66ms/step - loss: 2.3790 - accuracy: 0.3407\n",
      "Epoch 45/100\n",
      "91/91 [==============================] - 6s 61ms/step - loss: 2.3509 - accuracy: 0.3516\n",
      "Epoch 46/100\n",
      "91/91 [==============================] - 5s 59ms/step - loss: 2.3366 - accuracy: 0.3736\n",
      "Epoch 47/100\n",
      "91/91 [==============================] - 6s 62ms/step - loss: 2.3303 - accuracy: 0.3956\n",
      "Epoch 48/100\n",
      "91/91 [==============================] - 5s 59ms/step - loss: 2.3518 - accuracy: 0.3736\n",
      "Epoch 49/100\n",
      "91/91 [==============================] - 6s 63ms/step - loss: 2.3533 - accuracy: 0.3736\n",
      "Epoch 50/100\n",
      "91/91 [==============================] - 6s 61ms/step - loss: 2.3756 - accuracy: 0.3846\n",
      "Epoch 51/100\n",
      "91/91 [==============================] - 6s 61ms/step - loss: 2.3449 - accuracy: 0.3626\n",
      "Epoch 52/100\n",
      "91/91 [==============================] - 6s 68ms/step - loss: 2.3483 - accuracy: 0.3407\n",
      "Epoch 53/100\n",
      "91/91 [==============================] - 6s 61ms/step - loss: 2.3544 - accuracy: 0.3626\n",
      "Epoch 54/100\n",
      "91/91 [==============================] - 6s 61ms/step - loss: 2.3539 - accuracy: 0.3407\n",
      "Epoch 55/100\n",
      "91/91 [==============================] - 6s 61ms/step - loss: 2.3115 - accuracy: 0.3516\n",
      "Epoch 56/100\n",
      "91/91 [==============================] - 5s 59ms/step - loss: 2.3196 - accuracy: 0.3626\n",
      "Epoch 57/100\n",
      "91/91 [==============================] - 6s 66ms/step - loss: 2.3358 - accuracy: 0.3736\n",
      "Epoch 58/100\n",
      "91/91 [==============================] - 7s 75ms/step - loss: 2.3207 - accuracy: 0.3736\n",
      "Epoch 59/100\n",
      "91/91 [==============================] - 6s 71ms/step - loss: 2.3291 - accuracy: 0.3626\n",
      "Epoch 60/100\n",
      "91/91 [==============================] - 6s 61ms/step - loss: 2.2958 - accuracy: 0.3736\n",
      "Epoch 61/100\n",
      "91/91 [==============================] - 5s 59ms/step - loss: 2.3235 - accuracy: 0.3736\n",
      "Epoch 62/100\n",
      "91/91 [==============================] - 6s 68ms/step - loss: 2.2999 - accuracy: 0.3736\n",
      "Epoch 63/100\n",
      "91/91 [==============================] - 5s 53ms/step - loss: 2.3154 - accuracy: 0.3626\n",
      "Epoch 64/100\n",
      "91/91 [==============================] - 5s 59ms/step - loss: 2.3138 - accuracy: 0.3956\n",
      "Epoch 65/100\n",
      "91/91 [==============================] - 5s 52ms/step - loss: 2.3486 - accuracy: 0.3956\n",
      "Epoch 66/100\n",
      "91/91 [==============================] - 5s 59ms/step - loss: 2.3189 - accuracy: 0.3956\n",
      "Epoch 67/100\n",
      "91/91 [==============================] - 5s 51ms/step - loss: 2.3351 - accuracy: 0.3956\n",
      "Epoch 68/100\n",
      "91/91 [==============================] - 5s 51ms/step - loss: 2.3070 - accuracy: 0.3736\n",
      "Epoch 69/100\n",
      "91/91 [==============================] - 7s 74ms/step - loss: 2.3053 - accuracy: 0.3846\n",
      "Epoch 70/100\n",
      "91/91 [==============================] - 6s 70ms/step - loss: 2.3020 - accuracy: 0.3956\n",
      "Epoch 71/100\n",
      "91/91 [==============================] - 6s 62ms/step - loss: 2.3180 - accuracy: 0.3516\n",
      "Epoch 72/100\n",
      "91/91 [==============================] - 7s 78ms/step - loss: 2.2977 - accuracy: 0.3956\n",
      "Epoch 73/100\n",
      "91/91 [==============================] - 7s 75ms/step - loss: 2.2898 - accuracy: 0.4066\n",
      "Epoch 74/100\n",
      "91/91 [==============================] - 5s 57ms/step - loss: 2.3109 - accuracy: 0.4066\n",
      "Epoch 75/100\n",
      "91/91 [==============================] - 5s 54ms/step - loss: 2.2825 - accuracy: 0.3736\n",
      "Epoch 76/100\n",
      "91/91 [==============================] - 6s 61ms/step - loss: 2.2906 - accuracy: 0.3736\n",
      "Epoch 77/100\n",
      "91/91 [==============================] - 7s 74ms/step - loss: 2.2878 - accuracy: 0.3956\n",
      "Epoch 78/100\n",
      "91/91 [==============================] - 5s 59ms/step - loss: 2.2922 - accuracy: 0.3736\n",
      "Epoch 79/100\n",
      "91/91 [==============================] - 6s 63ms/step - loss: 2.2972 - accuracy: 0.3956\n",
      "Epoch 80/100\n",
      "91/91 [==============================] - 6s 62ms/step - loss: 2.2554 - accuracy: 0.3846\n",
      "Epoch 81/100\n",
      "91/91 [==============================] - 5s 58ms/step - loss: 2.2830 - accuracy: 0.3956\n",
      "Epoch 82/100\n"
     ]
    },
    {
     "name": "stdout",
     "output_type": "stream",
     "text": [
      "91/91 [==============================] - 5s 57ms/step - loss: 2.2734 - accuracy: 0.3956\n",
      "Epoch 83/100\n",
      "91/91 [==============================] - 6s 63ms/step - loss: 2.2766 - accuracy: 0.4066\n",
      "Epoch 84/100\n",
      "91/91 [==============================] - 5s 59ms/step - loss: 2.2385 - accuracy: 0.3956\n",
      "Epoch 85/100\n",
      "91/91 [==============================] - 5s 56ms/step - loss: 2.2327 - accuracy: 0.3846\n",
      "Epoch 86/100\n",
      "91/91 [==============================] - 5s 56ms/step - loss: 2.2362 - accuracy: 0.3956\n",
      "Epoch 87/100\n",
      "91/91 [==============================] - 6s 61ms/step - loss: 2.2357 - accuracy: 0.4066\n",
      "Epoch 88/100\n",
      "91/91 [==============================] - 5s 59ms/step - loss: 2.2185 - accuracy: 0.4066\n",
      "Epoch 89/100\n",
      "91/91 [==============================] - 5s 58ms/step - loss: 2.2272 - accuracy: 0.3846\n",
      "Epoch 90/100\n",
      "91/91 [==============================] - 5s 57ms/step - loss: 2.2193 - accuracy: 0.3956\n",
      "Epoch 91/100\n",
      "91/91 [==============================] - 5s 57ms/step - loss: 2.2214 - accuracy: 0.3736\n",
      "Epoch 92/100\n",
      "91/91 [==============================] - 6s 62ms/step - loss: 2.2180 - accuracy: 0.4066\n",
      "Epoch 93/100\n",
      "91/91 [==============================] - 5s 57ms/step - loss: 2.2199 - accuracy: 0.3956\n",
      "Epoch 94/100\n",
      "91/91 [==============================] - 5s 59ms/step - loss: 2.2133 - accuracy: 0.3846\n",
      "Epoch 95/100\n",
      "91/91 [==============================] - 6s 62ms/step - loss: 2.2294 - accuracy: 0.3846\n",
      "Epoch 96/100\n",
      "91/91 [==============================] - 6s 64ms/step - loss: 2.2306 - accuracy: 0.3846\n",
      "Epoch 97/100\n",
      "91/91 [==============================] - 5s 58ms/step - loss: 2.2237 - accuracy: 0.3956\n",
      "Epoch 98/100\n",
      "91/91 [==============================] - 5s 60ms/step - loss: 2.2374 - accuracy: 0.3846\n",
      "Epoch 99/100\n",
      "91/91 [==============================] - 5s 58ms/step - loss: 2.2299 - accuracy: 0.3626\n",
      "Epoch 100/100\n",
      "91/91 [==============================] - 5s 60ms/step - loss: 2.1994 - accuracy: 0.3846\n"
     ]
    }
   ],
   "source": [
    "# Run Model\n",
    "history = model.fit(training_set, labels, epochs=100, verbose=1, batch_size = 1)"
   ]
  },
  {
   "cell_type": "code",
   "execution_count": 14,
   "id": "ee291ace",
   "metadata": {
    "id": "ee291ace"
   },
   "outputs": [],
   "source": [
    "# Test model\n",
    "# W_formatted = np.array([W_flattened])\n",
    "#W_formatted = np.array([X_train])\n",
    "H_predicted_flat = model.predict(X_train)"
   ]
  },
  {
   "cell_type": "code",
   "execution_count": 15,
   "id": "6ac9731e",
   "metadata": {
    "colab": {
     "base_uri": "https://localhost:8080/"
    },
    "id": "6ac9731e",
    "outputId": "b1c8bc22-72e3-44af-8f94-7ad2880e5b09"
   },
   "outputs": [
    {
     "data": {
      "text/plain": [
       "(91, 4320)"
      ]
     },
     "execution_count": 15,
     "metadata": {},
     "output_type": "execute_result"
    }
   ],
   "source": [
    "H_predicted_flat.shape"
   ]
  },
  {
   "cell_type": "code",
   "execution_count": 16,
   "id": "c84fa5a2",
   "metadata": {
    "id": "c84fa5a2"
   },
   "outputs": [],
   "source": [
    "# Reformat H\n",
    "H_predicted = H_predicted_flat[0].reshape(20, -1)"
   ]
  },
  {
   "cell_type": "code",
   "execution_count": 17,
   "id": "pQvXyLptwzAy",
   "metadata": {
    "colab": {
     "base_uri": "https://localhost:8080/"
    },
    "id": "pQvXyLptwzAy",
    "outputId": "1695c21c-805a-4e8b-8fb9-9a0a822a1fda"
   },
   "outputs": [
    {
     "data": {
      "text/plain": [
       "(20, 216)"
      ]
     },
     "execution_count": 17,
     "metadata": {},
     "output_type": "execute_result"
    }
   ],
   "source": [
    "H_predicted.shape"
   ]
  },
  {
   "cell_type": "code",
   "execution_count": 18,
   "id": "d82ea035",
   "metadata": {
    "colab": {
     "base_uri": "https://localhost:8080/"
    },
    "id": "d82ea035",
    "outputId": "0e82b065-1b31-45ec-875d-0efe60589fa6"
   },
   "outputs": [
    {
     "data": {
      "text/plain": [
       "array([[2.88332701e-02, 1.27593115e-01, 2.38136551e-03, ...,\n",
       "        1.44590260e-02, 1.83248834e-03, 0.00000000e+00],\n",
       "       [0.00000000e+00, 1.30610541e-01, 3.20345769e-03, ...,\n",
       "        5.02347481e-03, 0.00000000e+00, 8.09298828e-02],\n",
       "       [1.14518702e-01, 2.82753080e-01, 4.90938760e-02, ...,\n",
       "        0.00000000e+00, 0.00000000e+00, 4.64812905e-01],\n",
       "       ...,\n",
       "       [0.00000000e+00, 1.14350820e-04, 0.00000000e+00, ...,\n",
       "        0.00000000e+00, 0.00000000e+00, 1.77858703e-04],\n",
       "       [0.00000000e+00, 1.11855756e-04, 0.00000000e+00, ...,\n",
       "        0.00000000e+00, 0.00000000e+00, 1.77725262e-04],\n",
       "       [0.00000000e+00, 1.11447545e-04, 0.00000000e+00, ...,\n",
       "        0.00000000e+00, 0.00000000e+00, 1.77909300e-04]], dtype=float32)"
      ]
     },
     "execution_count": 18,
     "metadata": {},
     "output_type": "execute_result"
    }
   ],
   "source": [
    "X = X_train[0]\n",
    "X.reshape(-1, 20)"
   ]
  },
  {
   "cell_type": "code",
   "execution_count": 19,
   "id": "OXpWR_cHyqsK",
   "metadata": {
    "colab": {
     "base_uri": "https://localhost:8080/"
    },
    "id": "OXpWR_cHyqsK",
    "outputId": "368cd790-6589-44af-b06b-5fe6cd863212"
   },
   "outputs": [
    {
     "data": {
      "text/plain": [
       "(20, 216)"
      ]
     },
     "execution_count": 19,
     "metadata": {},
     "output_type": "execute_result"
    }
   ],
   "source": [
    "H = y_train[0].reshape(20, -1)\n",
    "H.shape"
   ]
  },
  {
   "cell_type": "code",
   "execution_count": 27,
   "id": "947ca592",
   "metadata": {
    "id": "947ca592"
   },
   "outputs": [],
   "source": [
    "import soundfile as sf\n",
    "S_reconstructed = X.reshape(-1, 20) @ H_predicted * X_phase_list[0]\n",
    "x_reconstructed = librosa.istft(S_reconstructed)\n",
    "\n",
    "S = X.reshape(-1, 20) @ H * X_phase_list[0]\n",
    "x = librosa.istft(S)\n",
    "\n",
    "\n",
    "sf.write(\"test0n-reconstructed.wav\", x_reconstructed, 22050)\n",
    "sf.write(\"test0n.wav\", x, 22050)"
   ]
  },
  {
   "cell_type": "code",
   "execution_count": 28,
   "id": "22cce82b",
   "metadata": {},
   "outputs": [
    {
     "data": {
      "text/plain": [
       "<_io.BufferedRandom name='louder.wav'>"
      ]
     },
     "execution_count": 28,
     "metadata": {},
     "output_type": "execute_result"
    }
   ],
   "source": [
    "from pydub import AudioSegment\n",
    "\n",
    "song = AudioSegment.from_wav(\"test0n-reconstructed.wav\")\n",
    "\n",
    "# reduce volume by 10 dB\n",
    "song_10_db_louder = song + 20\n",
    "\n",
    "# but let's make him *very* quiet\n",
    "#song = song - 36\n",
    "\n",
    "# save the output\n",
    "song_10_db_louder.export(\"louder.wav\", \"wav\")"
   ]
  },
  {
   "cell_type": "code",
   "execution_count": 22,
   "id": "c1f0c9bb",
   "metadata": {
    "id": "c1f0c9bb"
   },
   "outputs": [
    {
     "ename": "NameError",
     "evalue": "name 'args' is not defined",
     "output_type": "error",
     "traceback": [
      "\u001b[0;31m---------------------------------------------------------------------------\u001b[0m",
      "\u001b[0;31mNameError\u001b[0m                                 Traceback (most recent call last)",
      "\u001b[0;32m/var/folders/q2/d22qjbd926jdgdt0jz3m375h0000gn/T/ipykernel_30630/1749952984.py\u001b[0m in \u001b[0;36m<module>\u001b[0;34m\u001b[0m\n\u001b[0;32m----> 1\u001b[0;31m \u001b[0msave_NMF_data\u001b[0m\u001b[0;34m(\u001b[0m\u001b[0mX_train\u001b[0m\u001b[0;34m,\u001b[0m \u001b[0my_train\u001b[0m\u001b[0;34m,\u001b[0m \u001b[0margs\u001b[0m\u001b[0;34m.\u001b[0m\u001b[0mnpyFILE\u001b[0m\u001b[0;34m)\u001b[0m\u001b[0;34m\u001b[0m\u001b[0;34m\u001b[0m\u001b[0m\n\u001b[0m",
      "\u001b[0;31mNameError\u001b[0m: name 'args' is not defined"
     ]
    }
   ],
   "source": [
    "save_NMF_data(X_train, y_train, args.npyFILE)"
   ]
  }
 ],
 "metadata": {
  "accelerator": "GPU",
  "colab": {
   "collapsed_sections": [],
   "name": "Music_Gen.ipynb",
   "provenance": []
  },
  "kernelspec": {
   "display_name": "Python 3 (ipykernel)",
   "language": "python",
   "name": "python3"
  },
  "language_info": {
   "codemirror_mode": {
    "name": "ipython",
    "version": 3
   },
   "file_extension": ".py",
   "mimetype": "text/x-python",
   "name": "python",
   "nbconvert_exporter": "python",
   "pygments_lexer": "ipython3",
   "version": "3.8.8"
  }
 },
 "nbformat": 4,
 "nbformat_minor": 5
}
